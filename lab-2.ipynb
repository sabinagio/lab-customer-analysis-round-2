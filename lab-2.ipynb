{
 "cells": [
  {
   "cell_type": "markdown",
   "metadata": {},
   "source": [
    "For this lab, we will be using the `marketing_customer_analysis.csv` file that you can find in the `files_for_lab` folder. Check out the `files_for_lab/about.md` to get more information if you are using the Online Excel.\n",
    "\n",
    "**Note**: For the next labs we will be using the same data file. Please save the code, so that you can re-use it later in the labs following this lab."
   ]
  },
  {
   "cell_type": "markdown",
   "metadata": {},
   "source": [
    "### Instructions"
   ]
  },
  {
   "cell_type": "markdown",
   "metadata": {},
   "source": [
    "#### 1. Show the dataframe shape."
   ]
  },
  {
   "cell_type": "code",
   "execution_count": 23,
   "metadata": {},
   "outputs": [
    {
     "name": "stdout",
     "output_type": "stream",
     "text": [
      "(10910, 26)\n"
     ]
    }
   ],
   "source": [
    "import pandas as pd\n",
    "import numpy as np\n",
    "\n",
    "df = pd.read_csv('files_for_lab/csv_files/marketing_customer_analysis.csv')\n",
    "print(df.shape)"
   ]
  },
  {
   "cell_type": "markdown",
   "metadata": {},
   "source": [
    "#### 2. Standardize header names."
   ]
  },
  {
   "cell_type": "code",
   "execution_count": 24,
   "metadata": {},
   "outputs": [
    {
     "name": "stdout",
     "output_type": "stream",
     "text": [
      "Index(['Unnamed: 0', 'Customer', 'State', 'Customer Lifetime Value',\n",
      "       'Response', 'Coverage', 'Education', 'Effective To Date',\n",
      "       'EmploymentStatus', 'Gender', 'Income', 'Location Code',\n",
      "       'Marital Status', 'Monthly Premium Auto', 'Months Since Last Claim',\n",
      "       'Months Since Policy Inception', 'Number of Open Complaints',\n",
      "       'Number of Policies', 'Policy Type', 'Policy', 'Renew Offer Type',\n",
      "       'Sales Channel', 'Total Claim Amount', 'Vehicle Class', 'Vehicle Size',\n",
      "       'Vehicle Type'],\n",
      "      dtype='object')\n",
      "0            0\n",
      "1            1\n",
      "2            2\n",
      "3            3\n",
      "4            4\n",
      "         ...  \n",
      "10905    10905\n",
      "10906    10906\n",
      "10907    10907\n",
      "10908    10908\n",
      "10909    10909\n",
      "Name: Unnamed: 0, Length: 10910, dtype: int64\n"
     ]
    }
   ],
   "source": [
    "pd.set_option('max_columns', None)\n",
    "\n",
    "# Check header names & data\n",
    "print(df.columns)\n",
    "\n",
    "# Check what Unnamed: 0 column is\n",
    "print(df['Unnamed: 0'])\n",
    "\n",
    "# As the Unnamed: 0 column is identical to the index column, we can drop it\n",
    "df.drop('Unnamed: 0', axis = 1, inplace = True)"
   ]
  },
  {
   "cell_type": "code",
   "execution_count": 30,
   "metadata": {},
   "outputs": [
    {
     "name": "stdout",
     "output_type": "stream",
     "text": [
      "  customer       state  customer lifetime value response  coverage education  \\\n",
      "0  DK49336     Arizona              4809.216960       No     Basic   College   \n",
      "1  KX64629  California              2228.525238       No     Basic   College   \n",
      "2  LZ68649  Washington             14947.917300       No     Basic  Bachelor   \n",
      "3  XL78013      Oregon             22332.439460      Yes  Extended   College   \n",
      "4  QA50777      Oregon              9025.067525       No   Premium  Bachelor   \n",
      "\n",
      "  effective to date employment status gender  income location code  \\\n",
      "0           2/18/11          Employed      M   48029      Suburban   \n",
      "1           1/18/11        Unemployed      F       0      Suburban   \n",
      "2           2/10/11          Employed      M   22139      Suburban   \n",
      "3           1/11/11          Employed      M   49078      Suburban   \n",
      "4           1/17/11     Medical Leave      F   23675      Suburban   \n",
      "\n",
      "  marital status  monthly premium auto  months since last claim  \\\n",
      "0        Married                    61                      7.0   \n",
      "1         Single                    64                      3.0   \n",
      "2         Single                   100                     34.0   \n",
      "3         Single                    97                     10.0   \n",
      "4        Married                   117                      NaN   \n",
      "\n",
      "   months since policy inception  number of open complaints  \\\n",
      "0                             52                        0.0   \n",
      "1                             26                        0.0   \n",
      "2                             31                        0.0   \n",
      "3                              3                        0.0   \n",
      "4                             31                        NaN   \n",
      "\n",
      "   number of policies     policy type        policy renew offer type  \\\n",
      "0                   9  Corporate Auto  Corporate L3           Offer3   \n",
      "1                   1   Personal Auto   Personal L3           Offer4   \n",
      "2                   2   Personal Auto   Personal L3           Offer3   \n",
      "3                   2  Corporate Auto  Corporate L3           Offer2   \n",
      "4                   7   Personal Auto   Personal L2           Offer1   \n",
      "\n",
      "  sales channel  total claim amount  vehicle class vehicle size vehicle type  \n",
      "0         Agent          292.800000  Four-Door Car      Medsize          NaN  \n",
      "1   Call Center          744.924331  Four-Door Car      Medsize          NaN  \n",
      "2   Call Center          480.000000            SUV      Medsize            A  \n",
      "3        Branch          484.013411  Four-Door Car      Medsize            A  \n",
      "4        Branch          707.925645  Four-Door Car      Medsize          NaN  \n",
      "Index(['customer', 'state', 'customer lifetime value', 'response', 'coverage',\n",
      "       'education', 'effective to date', 'employment status', 'gender',\n",
      "       'income', 'location code', 'marital status', 'monthly premium auto',\n",
      "       'months since last claim', 'months since policy inception',\n",
      "       'number of open complaints', 'number of policies', 'policy type',\n",
      "       'policy', 'renew offer type', 'sales channel', 'total claim amount',\n",
      "       'vehicle class', 'vehicle size', 'vehicle type'],\n",
      "      dtype='object')\n"
     ]
    }
   ],
   "source": [
    "# Review the rest of the data\n",
    "print(df.head())\n",
    "\n",
    "# No other duplicates seen, so will proceed with removing the typo in one of the column names and changing the font to lowercase:\n",
    "df.rename(columns = {'EmploymentStatus': 'Employment Status'}, inplace = True)\n",
    "df.columns = df.columns.str.lower()\n",
    "print(df.columns)"
   ]
  },
  {
   "cell_type": "markdown",
   "metadata": {},
   "source": [
    "#### 3. Which columns are numerical?\n",
    "\n",
    "- Customer Lifetime Value\n",
    "- Income\n",
    "- Monthly Premium Auto\n",
    "- Months Since Last Claim\n",
    "- Months Since Policy Inception\n",
    "- Number of Open Complaints\n",
    "- Number of Policies\n",
    "- Total Claim Amount"
   ]
  },
  {
   "cell_type": "markdown",
   "metadata": {},
   "source": [
    "#### 4. Which columns are categorical?\n",
    "\n",
    "All the remaining columns."
   ]
  },
  {
   "cell_type": "markdown",
   "metadata": {},
   "source": [
    "#### 5. Check and deal with `NaN` values."
   ]
  },
  {
   "cell_type": "code",
   "execution_count": null,
   "metadata": {},
   "outputs": [],
   "source": []
  }
 ],
 "metadata": {
  "interpreter": {
   "hash": "916dbcbb3f70747c44a77c7bcd40155683ae19c65e1c03b4aa3499c5328201f1"
  },
  "kernelspec": {
   "display_name": "Python 3.8.10 64-bit",
   "language": "python",
   "name": "python3"
  },
  "language_info": {
   "codemirror_mode": {
    "name": "ipython",
    "version": 3
   },
   "file_extension": ".py",
   "mimetype": "text/x-python",
   "name": "python",
   "nbconvert_exporter": "python",
   "pygments_lexer": "ipython3",
   "version": "3.8.10"
  },
  "orig_nbformat": 4
 },
 "nbformat": 4,
 "nbformat_minor": 2
}
